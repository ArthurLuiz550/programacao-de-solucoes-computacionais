{
  "nbformat": 4,
  "nbformat_minor": 0,
  "metadata": {
    "colab": {
      "provenance": [],
      "authorship_tag": "ABX9TyOzWvLqvo8y7aGvAfI9EUaB",
      "include_colab_link": true
    },
    "kernelspec": {
      "name": "python3",
      "display_name": "Python 3"
    },
    "language_info": {
      "name": "python"
    }
  },
  "cells": [
    {
      "cell_type": "markdown",
      "metadata": {
        "id": "view-in-github",
        "colab_type": "text"
      },
      "source": [
        "<a href=\"https://colab.research.google.com/github/ArthurLuiz550/programacao-de-solucoes-computacionais/blob/main/Primeiro_ex_Phyton.ipynb\" target=\"_parent\"><img src=\"https://colab.research.google.com/assets/colab-badge.svg\" alt=\"Open In Colab\"/></a>"
      ]
    },
    {
      "cell_type": "markdown",
      "source": [
        "1) Programa que pergunta nome, idade, peso, altura e se uma pessoa está apta a ingressar no exército :"
      ],
      "metadata": {
        "id": "UH1QJXNW2R0B"
      }
    },
    {
      "cell_type": "code",
      "execution_count": null,
      "metadata": {
        "colab": {
          "base_uri": "https://localhost:8080/"
        },
        "id": "M_FiZgONsq1b",
        "outputId": "867770f5-ec68-4e55-d705-0654b4d7dc16"
      },
      "outputs": [
        {
          "output_type": "stream",
          "name": "stdout",
          "text": [
            "Digite seu nome: arthur\n",
            "Digite sua idade: 19\n",
            "Digite seu pesp em kg: 95\n",
            "Digite sua altura em metros: 1.84\n",
            "arthur, você está apto para ingressar no exército.\n"
          ]
        }
      ],
      "source": [
        "nome = input(\"Digite seu nome: \")\n",
        "idade = int(input(\"Digite sua idade: \"))\n",
        "peso = float(input(\"Digite seu pesp em kg: \"))\n",
        "altura = float(input(\"Digite sua altura em metros: \"))\n",
        "\n",
        "if idade >= 18 and peso >= 60 and altura >= 1.70 :\n",
        "  print(f\"{nome}, você está apto para ingressar no exército.\")\n",
        "else:\n",
        "  print(f\"{nome}, você não está apto para ingressar no exército.\")\n"
      ]
    },
    {
      "cell_type": "markdown",
      "source": [
        "2)Programa que imprime frases de trás para frente :"
      ],
      "metadata": {
        "id": "GgBzt6dD2rUY"
      }
    },
    {
      "cell_type": "code",
      "source": [
        "frase = input(\"Digite uma frase: \")\n",
        "frase_invertida = frase[::-1]\n",
        "print(f\"Frase de trás para frente:\", frase_invertida)"
      ],
      "metadata": {
        "colab": {
          "base_uri": "https://localhost:8080/"
        },
        "id": "-3hg-su1vZvt",
        "outputId": "6f5f06fe-d1d1-4b85-f8f5-93694e485274"
      },
      "execution_count": null,
      "outputs": [
        {
          "output_type": "stream",
          "name": "stdout",
          "text": [
            "Digite uma frase: Messi o melhor do mundo\n",
            "Frase de trás para frente: odnum od rohlem o isseM\n"
          ]
        }
      ]
    },
    {
      "cell_type": "code",
      "source": [],
      "metadata": {
        "id": "a5f8bMxbwEGP"
      },
      "execution_count": null,
      "outputs": []
    },
    {
      "cell_type": "markdown",
      "source": [
        "3)Programa que cálcula quantos segundos tem dias, horas e minutos :"
      ],
      "metadata": {
        "id": "kG4bU_DR3HxF"
      }
    },
    {
      "cell_type": "code",
      "source": [
        "dias = int(input(\"Dias: \"))\n",
        "horas = int(input(\"Horas: \"))\n",
        "minutos = int(input(\"Minutos: \"))\n",
        "segundos_dias = int(dias * 24 * 60 * 60)\n",
        "segundos_horas = int(horas * 60 * 60)\n",
        "segundos_minutos = int(minutos * 60)\n",
        "print(f\"Total: {segundos_dias} segundos, {segundos_horas} segundos, {segundos_minutos} segundos \")"
      ],
      "metadata": {
        "colab": {
          "base_uri": "https://localhost:8080/"
        },
        "id": "sJgSbOMTwSwt",
        "outputId": "56ecf14d-cab2-4229-efa0-f2b7a6df1d17"
      },
      "execution_count": null,
      "outputs": [
        {
          "output_type": "stream",
          "name": "stdout",
          "text": [
            "Dias: 1\n",
            "Horas: 24\n",
            "Minutos: 1440\n",
            "Total: 86400 segundos, 86400 segundos, 86400 segundos \n"
          ]
        }
      ]
    },
    {
      "cell_type": "markdown",
      "source": [
        "4)Programa que calcula o tempo de viagem de carro.\n",
        "Entrada: Distância a percorrer e a velocidade média esperada para a viagem :"
      ],
      "metadata": {
        "id": "Nm885W3T3UuX"
      }
    },
    {
      "cell_type": "code",
      "source": [
        "distancia = float(input(\"Distância em km: \"))\n",
        "velocidade = float(input(\"Velocidade média em km/h: \"))\n",
        "tempo = (distancia/velocidade)\n",
        "horas = int(tempo)\n",
        "minutos = int((tempo - horas) * 60)\n",
        "print(f\"Tempo de viagem: {horas} horas e {minutos} minutos\")"
      ],
      "metadata": {
        "id": "kHx-x-bs3xfd",
        "colab": {
          "base_uri": "https://localhost:8080/"
        },
        "outputId": "8e5e792b-73b5-4f1a-bd81-a93be4ccc6ae"
      },
      "execution_count": 1,
      "outputs": [
        {
          "output_type": "stream",
          "name": "stdout",
          "text": [
            "Distância em km: 200\n",
            "Velocidade média em km/h: 180\n",
            "Tempo de viagem: 1 horas e 6 minutos\n"
          ]
        }
      ]
    },
    {
      "cell_type": "markdown",
      "source": [
        "5) Programa que recebe a vel. de um carro e, caso ultrapasse 80km/h, exiba uma mensagem dizendo que o usuário foi multado. Nesse caso, exiba o valor da multa, cobrando R$5 por km acima de 80km/h:"
      ],
      "metadata": {
        "id": "dOetG1Oq-YEb"
      }
    },
    {
      "cell_type": "markdown",
      "source": [],
      "metadata": {
        "id": "j7pfEv8V9-2I"
      }
    },
    {
      "cell_type": "code",
      "source": [
        "velocidade = float(input(\"Velocidade do carro: \"))\n",
        "limite = 80\n",
        "if velocidade > limite:\n",
        "  valor_multa = (velocidade - limite) * 5\n",
        "  print(f\"Você foi multado em: {valor_multa}\")\n",
        "else :\n",
        "  print(f\"Você não foi multado\")"
      ],
      "metadata": {
        "colab": {
          "base_uri": "https://localhost:8080/"
        },
        "id": "Mb-zGhWb_I_t",
        "outputId": "eb29b9cc-757b-4eb3-e62c-2303dfb2475d"
      },
      "execution_count": 3,
      "outputs": [
        {
          "output_type": "stream",
          "name": "stdout",
          "text": [
            "Velocidade do carro: 180\n",
            "Você foi multado em: 500.0\n"
          ]
        }
      ]
    },
    {
      "cell_type": "markdown",
      "source": [
        "6) Programa para aprovar o empréstimo bancário para comprar uma casa. O programa deve perguntar o valor da casa a comprar, o salário e a quantidade de anos a pagar. O valor da prestação mensal não pode ser superior a 30% do salário. Calcule o valor da prestação como sendo o valor da casa a comprar dividido pelo número de meses a pagar:"
      ],
      "metadata": {
        "id": "Qq3ZJawgAHjo"
      }
    },
    {
      "cell_type": "code",
      "source": [
        "valor_casa = float(input(\"Valor da casa: \"))\n",
        "salario = float (input(\"Sálario: \"))\n",
        "anos_pagando = int(input(\"Quantidade de anos a pagar: \"))\n",
        "meses_pagar = anos_pagando * 12\n",
        "prestacao = valor_casa / meses_pagar\n",
        "limite = salario * 0.3\n",
        "if prestacao > limite :\n",
        "  print(f\"Voçê não está aprovado\")\n",
        "else :\n",
        "  print(f\"Voçê está aprovado, o valor da prestação é de {prestacao} por {meses_pagar} meses\")\n"
      ],
      "metadata": {
        "id": "p-HEudmQBlvG",
        "colab": {
          "base_uri": "https://localhost:8080/"
        },
        "outputId": "ea5a5747-3d65-41ee-f5af-4d41ec894370"
      },
      "execution_count": 6,
      "outputs": [
        {
          "output_type": "stream",
          "name": "stdout",
          "text": [
            "Valor da casa: 500000\n",
            "Sálario: 5000\n",
            "Quantidade de anos a pagar: 30\n",
            "Voçê está aprovado, o valor da prestação é de 1388.888888888889 por 360 meses\n"
          ]
        }
      ]
    },
    {
      "cell_type": "markdown",
      "source": [
        "7) Programa para imprimir a tabuada:\n"
      ],
      "metadata": {
        "id": "6ECMhaL5XjLd"
      }
    },
    {
      "cell_type": "code",
      "source": [
        "numero = int(input(\"Informe um numero: \"))\n",
        "inicio = 0\n",
        "fim = 9\n",
        "print(f\"Tabuada do {numero}: \")\n",
        "for X in range(inicio, fim + 1):\n",
        "  resultado = numero * X\n",
        "  print(f\"{numero} x {X} = {resultado}\")"
      ],
      "metadata": {
        "colab": {
          "base_uri": "https://localhost:8080/"
        },
        "id": "_n0n3S-ZXzpr",
        "outputId": "0c32c3b5-5e0b-47cb-b912-98f6a56731eb"
      },
      "execution_count": 9,
      "outputs": [
        {
          "output_type": "stream",
          "name": "stdout",
          "text": [
            "Informe um numero: 9\n",
            "Tabuada do 9: \n",
            "9 x 0 = 0\n",
            "9 x 1 = 9\n",
            "9 x 2 = 18\n",
            "9 x 3 = 27\n",
            "9 x 4 = 36\n",
            "9 x 5 = 45\n",
            "9 x 6 = 54\n",
            "9 x 7 = 63\n",
            "9 x 8 = 72\n",
            "9 x 9 = 81\n"
          ]
        }
      ]
    },
    {
      "cell_type": "markdown",
      "source": [
        "8) Programa que calcula o resto da divisão de dois números inteiros, usando apenas as operações de soma e subtração para achar o resultado:"
      ],
      "metadata": {
        "id": "cNeytNwoaNQL"
      }
    },
    {
      "cell_type": "code",
      "source": [
        "dividendo = int(input(\"Dividendo: \"))\n",
        "divisor = int(input(\"Divisor: \"))\n",
        "quociente = int(input(\"Quociente: \"))\n",
        "resto = dividendo - (divisor * quociente)\n",
        "print(f\"Resto: {resto}\")"
      ],
      "metadata": {
        "colab": {
          "base_uri": "https://localhost:8080/"
        },
        "id": "m_qGsoqkarbg",
        "outputId": "cd008759-7d8c-4225-cb4f-f0d7abbe988c"
      },
      "execution_count": null,
      "outputs": [
        {
          "output_type": "stream",
          "name": "stdout",
          "text": [
            "Dividendo: 20\n",
            "Divisor: 5\n",
            "Quociente: 4\n",
            "Resto: 0\n"
          ]
        }
      ]
    },
    {
      "cell_type": "markdown",
      "source": [
        "9) Programa que lê 3 números inteiros referentes ao comprimento dos lados de um triângulo e classifique-o como: equilátero, isósceles ou escaleno:"
      ],
      "metadata": {
        "id": "fUnRKcpIbWDo"
      }
    },
    {
      "cell_type": "code",
      "source": [
        "lado1 = float(input(\"Digite o valor do primeiro lado: \"))\n",
        "lado2 = float(input(\"Digite o valor do segundo lado: \"))\n",
        "lado3 = float(input(\"Digite o valor do terceiro lado: \"))\n",
        "if lado1 == lado2 == lado3:\n",
        "  print(\"Equilátero\")\n",
        "elif lado1 ==lado2 or lado1 == lado3 or lado2 == lado3:\n",
        "  print(\"Isósceles\")\n",
        "else :\n",
        "  print(\"escaleno\")"
      ],
      "metadata": {
        "colab": {
          "base_uri": "https://localhost:8080/"
        },
        "id": "HTRSQC6hbsNN",
        "outputId": "b647c7ea-9d40-480a-e491-30f2385624a3"
      },
      "execution_count": 12,
      "outputs": [
        {
          "output_type": "stream",
          "name": "stdout",
          "text": [
            "Digite o valor do primeiro lado: 5\n",
            "Digite o valor do segundo lado: 6\n",
            "Digite o valor do terceiro lado: 6\n",
            "Isósceles\n"
          ]
        }
      ]
    },
    {
      "cell_type": "markdown",
      "source": [
        "10) Escreva uma função que receba um número inteiro como entrada (ex: 32243) e retorne o número invertido:"
      ],
      "metadata": {
        "id": "6Myu1LCrc_Cn"
      }
    },
    {
      "cell_type": "code",
      "source": [
        "numero = input(\"Digite um número interio: \")\n",
        "numero_invertido = numero[::-1]\n",
        "print(f\"Número de invertido:, {numero_invertido}\")"
      ],
      "metadata": {
        "colab": {
          "base_uri": "https://localhost:8080/"
        },
        "id": "BHz-ccnpdN0r",
        "outputId": "77a40507-98ce-46e7-acbe-e5aa7c58c09a"
      },
      "execution_count": null,
      "outputs": [
        {
          "output_type": "stream",
          "name": "stdout",
          "text": [
            "Digite um número interio: 550\n",
            "Número de invertido:, 055\n"
          ]
        }
      ]
    },
    {
      "cell_type": "markdown",
      "source": [
        "11) Função que conte o número de vogais de uma string:"
      ],
      "metadata": {
        "id": "gOMunWFcemlo"
      }
    },
    {
      "cell_type": "code",
      "source": [
        "def contador_vogais (string):\n",
        "   contador = 0\n",
        "   vogais = \"aeiou\"\n",
        "   for caractere in string:\n",
        "     if caractere in vogais:\n",
        "      contador += 1\n",
        "   return contador\n",
        "texto = input(\"Informe uma palavra ou frase: \")\n",
        "numero_de_vogais = contador_vogais(texto)\n",
        "print(f\"O total de vogais é: {numero_de_vogais}\")"
      ],
      "metadata": {
        "colab": {
          "base_uri": "https://localhost:8080/"
        },
        "id": "7JM6sV3xevBy",
        "outputId": "070bfa12-b091-4ea5-cd18-f95a2a933b28"
      },
      "execution_count": 17,
      "outputs": [
        {
          "output_type": "stream",
          "name": "stdout",
          "text": [
            "Informe uma palavra ou frase: aeiou\n",
            "O total de vogais é: 5\n"
          ]
        }
      ]
    },
    {
      "cell_type": "markdown",
      "source": [
        "12) Programa que encontra o itém mais frequente em uma lista:"
      ],
      "metadata": {
        "id": "K1PPplnHgABi"
      }
    },
    {
      "cell_type": "code",
      "source": [
        "def frequente_lista(lista):\n",
        "  contagem = {}\n",
        "  for elemento in lista:\n",
        "    if elemento in contagem:\n",
        "      contagem[elemento] +=1\n",
        "    else:\n",
        "      contagem[elemento] =1\n",
        "  elemento_frequente = max(contagem, key=contagem.get)\n",
        "  return elemento_frequente\n",
        "\n",
        "frutas = input(\"Informe uma lista de frutas separadas por espaço: \").split()\n",
        "lista_frequente = frequente_lista(frutas)\n",
        "print(f\"O item mais frequente é: {lista_frequente}\")"
      ],
      "metadata": {
        "id": "61l9jl9PARbe",
        "colab": {
          "base_uri": "https://localhost:8080/"
        },
        "outputId": "2b6bee6c-1aae-44e1-f195-917c2225af72"
      },
      "execution_count": 38,
      "outputs": [
        {
          "output_type": "stream",
          "name": "stdout",
          "text": [
            "Informe uma lista de frutas separadas por espaço: uva uva banana\n",
            "O item mais frequente é: uva\n"
          ]
        }
      ]
    },
    {
      "cell_type": "markdown",
      "source": [
        "13) Programa para verificar se uma palavra é ou não palíndromo"
      ],
      "metadata": {
        "id": "EQWe7KiQBmIc"
      }
    },
    {
      "cell_type": "code",
      "source": [
        "palavra = input(\"Digite uma palavra: \")\n",
        "palindromo = palavra[::-1]\n",
        "if(palavra == palindromo):\n",
        " print(f\"{palavra} é um palíndromo\")\n",
        "else:\n",
        "  print(f\"{palavra} não é um palíndromo\")"
      ],
      "metadata": {
        "colab": {
          "base_uri": "https://localhost:8080/"
        },
        "id": "x99wgnABBw2D",
        "outputId": "7f08789d-403e-47dc-cd1c-707847b491db"
      },
      "execution_count": null,
      "outputs": [
        {
          "output_type": "stream",
          "name": "stdout",
          "text": [
            "Digite uma palavra: banana\n",
            "banana não é um palíndromo\n"
          ]
        }
      ]
    }
  ]
}